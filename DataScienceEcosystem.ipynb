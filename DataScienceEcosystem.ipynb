{
  "nbformat": 4,
  "nbformat_minor": 0,
  "metadata": {
    "colab": {
      "provenance": []
    },
    "kernelspec": {
      "name": "python3",
      "display_name": "Python 3"
    },
    "language_info": {
      "name": "python"
    }
  },
  "cells": [
    {
      "cell_type": "markdown",
      "source": [
        "#Data Science Tools and Ecosystem"
      ],
      "metadata": {
        "id": "qRYeX2r4ZzGa"
      }
    },
    {
      "cell_type": "markdown",
      "source": [
        "##Author\n",
        "Saied T."
      ],
      "metadata": {
        "id": "nB6PlzL_fHAK"
      }
    },
    {
      "cell_type": "markdown",
      "source": [
        "In this notebook, Data Science TOols and Ecosystem are summarized."
      ],
      "metadata": {
        "id": "LgpDi5i7aXgD"
      }
    },
    {
      "cell_type": "markdown",
      "source": [
        "**Objectives**\n",
        "\n",
        "* List popular languages used for data science\n",
        "*List popular libraries used for data science\n",
        "*List popular tools used for data science\n",
        "*Perform simple arithmetic using Python\n",
        "\n"
      ],
      "metadata": {
        "id": "uJQh8tereMgP"
      }
    },
    {
      "cell_type": "markdown",
      "source": [
        "Some of the popular languages that Data Scientists use are:\n",
        "\n",
        "1. Python\n",
        "2. R\n",
        "3. Julia"
      ],
      "metadata": {
        "id": "c8-05_mdanNL"
      }
    },
    {
      "cell_type": "markdown",
      "source": [
        "Some of the libraries commonly used by Data Scientists include:\n",
        "\n",
        "1. Pandas\n",
        "2. NumPy\n",
        "3. Matplotlib"
      ],
      "metadata": {
        "id": "BovhZUpybW7z"
      }
    },
    {
      "cell_type": "markdown",
      "source": [
        "| Data Science Tools |\n",
        "--\n",
        "Jupyter Notebooks\n",
        "GitHub\n",
        "RStudio"
      ],
      "metadata": {
        "id": "Rrgrxz_sbzND"
      }
    },
    {
      "cell_type": "markdown",
      "source": [
        "###Below are a few examples of evaluating artihmetic expressions in Python"
      ],
      "metadata": {
        "id": "n_HwiUMBcwSH"
      }
    },
    {
      "cell_type": "code",
      "source": [
        "#This is a simple arithmetic expression to multiply then add integers\n",
        "\n",
        "(3*4)+5"
      ],
      "metadata": {
        "colab": {
          "base_uri": "https://localhost:8080/"
        },
        "id": "V56TC87kc0lR",
        "outputId": "8419a7e3-0068-4d41-d44c-92aaf9869a0b"
      },
      "execution_count": 3,
      "outputs": [
        {
          "output_type": "execute_result",
          "data": {
            "text/plain": [
              "17"
            ]
          },
          "metadata": {},
          "execution_count": 3
        }
      ]
    },
    {
      "cell_type": "code",
      "source": [
        "#This will convert 200 minutes to hours by dividing by 60\n",
        "\n",
        "200/60"
      ],
      "metadata": {
        "colab": {
          "base_uri": "https://localhost:8080/"
        },
        "id": "1rfazWgQdHJl",
        "outputId": "6ed409da-7cc1-4a1d-fbf9-092065d4518a"
      },
      "execution_count": 6,
      "outputs": [
        {
          "output_type": "execute_result",
          "data": {
            "text/plain": [
              "3.3333333333333335"
            ]
          },
          "metadata": {},
          "execution_count": 6
        }
      ]
    }
  ]
}